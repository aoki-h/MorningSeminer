{
 "cells": [
  {
   "cell_type": "markdown",
   "metadata": {
    "slideshow": {
     "slide_type": "slide"
    }
   },
   "source": [
    "# Chapter3 確率的勾配降下法"
   ]
  },
  {
   "cell_type": "markdown",
   "metadata": {
    "slideshow": {
     "slide_type": "slide"
    }
   },
   "source": [
    "## 3.1 勾配降下法"
   ]
  },
  {
   "cell_type": "markdown",
   "metadata": {
    "slideshow": {
     "slide_type": "subslide"
    }
   },
   "source": [
    "### 誤差関数\n",
    "\n",
    "・回帰問題なら**二乗誤差**<br>\n",
    "\n",
    "$$\n",
    "\\begin{equation}\n",
    "E(w) = \\frac{1}{2}\\sum_{n=1}^{N} \\| \\mathbf{d_n}-\\mathbf{y}(\\mathbf{x_n};\\mathbf{w})\\|^2\n",
    "\\end{equation}\n",
    "$$\n",
    "\n",
    "・分類問題なら**クロスエントロピー**<br>\n",
    "\n",
    "$$\n",
    "\\begin{equation}\n",
    "E(w) = -\\sum_{n=1}^{N} \\sum_{k=1}^{K} d_{nk}\\log y_k(\\mathbf{x_n};\\mathbf{w})\n",
    "\\end{equation}\n",
    "$$\n",
    "\n",
    "<br>\n",
    "→学習の目的は誤差関数をネットワークパラメータについて最小化すること<br>\n",
    "\n",
    "**勾配降下法**:パラメータを初期値から少しづつ変化させて誤差関数の極小値を得る<br>\n",
    "\n",
    "※誤差関数は凸関数とは限らないので局所解に陥る可能性はある。"
   ]
  },
  {
   "cell_type": "markdown",
   "metadata": {
    "slideshow": {
     "slide_type": "subslide"
    }
   },
   "source": [
    "### パラメータの更新\n",
    "\n",
    "勾配降下法では以下のように勾配が大きい方に向かってパラメータを更新する。\n",
    "\n",
    "$$\n",
    "\\begin{equation}\n",
    "\\mathbf w^{t+1} = \\mathbf w^{t} - \\epsilon \\nabla E\n",
    "\\end{equation}\n",
    "$$\n",
    "<br>\n",
    "$$\n",
    "\\begin{equation}\n",
    "\\nabla E \\equiv \\frac{\\partial E}{\\partial \\mathbf w} = \\Biggl[ \\frac{\\partial E}{\\partial w_1} \\cdots \\frac{\\partial E}{\\partial w_M} \\Biggr]^{\\mathrm{T}}\n",
    "\\end{equation}\n",
    "$$\n",
    "\n",
    "$\\epsilon$は**学習係数**と呼ばれる重み更新の幅を決めるパラメータ。"
   ]
  },
  {
   "cell_type": "code",
   "execution_count": 18,
   "metadata": {
    "collapsed": false,
    "slideshow": {
     "slide_type": "subslide"
    }
   },
   "outputs": [
    {
     "name": "stdout",
     "output_type": "stream",
     "text": [
      "break\n"
     ]
    },
    {
     "ename": "TypeError",
     "evalue": "'NoneType' object is not iterable",
     "output_type": "error",
     "traceback": [
      "\u001b[0;31m---------------------------------------------------------------------------\u001b[0m",
      "\u001b[0;31mTypeError\u001b[0m                                 Traceback (most recent call last)",
      "\u001b[0;32m<ipython-input-18-b5621b901572>\u001b[0m in \u001b[0;36m<module>\u001b[0;34m()\u001b[0m\n\u001b[1;32m    101\u001b[0m \u001b[0mplt\u001b[0m\u001b[0;34m.\u001b[0m\u001b[0mclabel\u001b[0m\u001b[0;34m(\u001b[0m\u001b[0mCS\u001b[0m\u001b[0;34m,\u001b[0m \u001b[0minline\u001b[0m\u001b[0;34m=\u001b[0m\u001b[0;36m1\u001b[0m\u001b[0;34m,\u001b[0m \u001b[0mfontsize\u001b[0m\u001b[0;34m=\u001b[0m\u001b[0;36m10\u001b[0m\u001b[0;34m)\u001b[0m\u001b[0;34m\u001b[0m\u001b[0m\n\u001b[1;32m    102\u001b[0m \u001b[0manim\u001b[0m \u001b[0;34m=\u001b[0m \u001b[0mani\u001b[0m\u001b[0;34m.\u001b[0m\u001b[0mFuncAnimation\u001b[0m\u001b[0;34m(\u001b[0m\u001b[0mfig\u001b[0m\u001b[0;34m,\u001b[0m \u001b[0manimate\u001b[0m\u001b[0;34m,\u001b[0m \u001b[0mframes\u001b[0m\u001b[0;34m=\u001b[0m\u001b[0mret_dict\u001b[0m\u001b[0;34m[\u001b[0m\u001b[0;34m'num'\u001b[0m\u001b[0;34m]\u001b[0m\u001b[0;34m,\u001b[0m \u001b[0mblit\u001b[0m\u001b[0;34m=\u001b[0m\u001b[0;32mTrue\u001b[0m\u001b[0;34m)\u001b[0m\u001b[0;34m\u001b[0m\u001b[0m\n\u001b[0;32m--> 103\u001b[0;31m \u001b[0manim\u001b[0m\u001b[0;34m.\u001b[0m\u001b[0msave\u001b[0m\u001b[0;34m(\u001b[0m\u001b[0;34m'bi-normdist_decent_anim.mp4'\u001b[0m\u001b[0;34m,\u001b[0m \u001b[0mfps\u001b[0m\u001b[0;34m=\u001b[0m\u001b[0;36m2.5\u001b[0m\u001b[0;34m)\u001b[0m\u001b[0;34m\u001b[0m\u001b[0m\n\u001b[0m\u001b[1;32m    104\u001b[0m \u001b[0;34m\u001b[0m\u001b[0m\n\u001b[1;32m    105\u001b[0m \u001b[0mclip\u001b[0m \u001b[0;34m=\u001b[0m \u001b[0mVideoFileClip\u001b[0m\u001b[0;34m(\u001b[0m\u001b[0;34m\"bi-normdist_decent_anim.mp4\"\u001b[0m\u001b[0;34m)\u001b[0m\u001b[0;34m\u001b[0m\u001b[0m\n",
      "\u001b[0;32m/Users/aokihidetoshi/.pyenv/versions/FKenv/lib/python3.5/site-packages/matplotlib/animation.py\u001b[0m in \u001b[0;36msave\u001b[0;34m(self, filename, writer, fps, dpi, codec, bitrate, extra_args, metadata, extra_anim, savefig_kwargs)\u001b[0m\n\u001b[1;32m    802\u001b[0m             \u001b[0;32mfor\u001b[0m \u001b[0manim\u001b[0m \u001b[0;32min\u001b[0m \u001b[0mall_anim\u001b[0m\u001b[0;34m:\u001b[0m\u001b[0;34m\u001b[0m\u001b[0m\n\u001b[1;32m    803\u001b[0m                 \u001b[0;31m# Clear the initial frame\u001b[0m\u001b[0;34m\u001b[0m\u001b[0;34m\u001b[0m\u001b[0m\n\u001b[0;32m--> 804\u001b[0;31m                 \u001b[0manim\u001b[0m\u001b[0;34m.\u001b[0m\u001b[0m_init_draw\u001b[0m\u001b[0;34m(\u001b[0m\u001b[0;34m)\u001b[0m\u001b[0;34m\u001b[0m\u001b[0m\n\u001b[0m\u001b[1;32m    805\u001b[0m             for data in zip(*[a.new_saved_frame_seq()\n\u001b[1;32m    806\u001b[0m                               for a in all_anim]):\n",
      "\u001b[0;32m/Users/aokihidetoshi/.pyenv/versions/FKenv/lib/python3.5/site-packages/matplotlib/animation.py\u001b[0m in \u001b[0;36m_init_draw\u001b[0;34m(self)\u001b[0m\n\u001b[1;32m   1191\u001b[0m         \u001b[0;31m# artists.\u001b[0m\u001b[0;34m\u001b[0m\u001b[0;34m\u001b[0m\u001b[0m\n\u001b[1;32m   1192\u001b[0m         \u001b[0;32mif\u001b[0m \u001b[0mself\u001b[0m\u001b[0;34m.\u001b[0m\u001b[0m_init_func\u001b[0m \u001b[0;32mis\u001b[0m \u001b[0;32mNone\u001b[0m\u001b[0;34m:\u001b[0m\u001b[0;34m\u001b[0m\u001b[0m\n\u001b[0;32m-> 1193\u001b[0;31m             \u001b[0mself\u001b[0m\u001b[0;34m.\u001b[0m\u001b[0m_draw_frame\u001b[0m\u001b[0;34m(\u001b[0m\u001b[0mnext\u001b[0m\u001b[0;34m(\u001b[0m\u001b[0mself\u001b[0m\u001b[0;34m.\u001b[0m\u001b[0mnew_frame_seq\u001b[0m\u001b[0;34m(\u001b[0m\u001b[0;34m)\u001b[0m\u001b[0;34m)\u001b[0m\u001b[0;34m)\u001b[0m\u001b[0;34m\u001b[0m\u001b[0m\n\u001b[0m\u001b[1;32m   1194\u001b[0m \u001b[0;34m\u001b[0m\u001b[0m\n\u001b[1;32m   1195\u001b[0m         \u001b[0;32melse\u001b[0m\u001b[0;34m:\u001b[0m\u001b[0;34m\u001b[0m\u001b[0m\n",
      "\u001b[0;32m/Users/aokihidetoshi/.pyenv/versions/FKenv/lib/python3.5/site-packages/matplotlib/animation.py\u001b[0m in \u001b[0;36m_draw_frame\u001b[0;34m(self, framedata)\u001b[0m\n\u001b[1;32m   1212\u001b[0m         \u001b[0mself\u001b[0m\u001b[0;34m.\u001b[0m\u001b[0m_drawn_artists\u001b[0m \u001b[0;34m=\u001b[0m \u001b[0mself\u001b[0m\u001b[0;34m.\u001b[0m\u001b[0m_func\u001b[0m\u001b[0;34m(\u001b[0m\u001b[0mframedata\u001b[0m\u001b[0;34m,\u001b[0m \u001b[0;34m*\u001b[0m\u001b[0mself\u001b[0m\u001b[0;34m.\u001b[0m\u001b[0m_args\u001b[0m\u001b[0;34m)\u001b[0m\u001b[0;34m\u001b[0m\u001b[0m\n\u001b[1;32m   1213\u001b[0m         \u001b[0;32mif\u001b[0m \u001b[0mself\u001b[0m\u001b[0;34m.\u001b[0m\u001b[0m_blit\u001b[0m\u001b[0;34m:\u001b[0m\u001b[0;34m\u001b[0m\u001b[0m\n\u001b[0;32m-> 1214\u001b[0;31m             \u001b[0;32mfor\u001b[0m \u001b[0ma\u001b[0m \u001b[0;32min\u001b[0m \u001b[0mself\u001b[0m\u001b[0;34m.\u001b[0m\u001b[0m_drawn_artists\u001b[0m\u001b[0;34m:\u001b[0m\u001b[0;34m\u001b[0m\u001b[0m\n\u001b[0m\u001b[1;32m   1215\u001b[0m                 \u001b[0ma\u001b[0m\u001b[0;34m.\u001b[0m\u001b[0mset_animated\u001b[0m\u001b[0;34m(\u001b[0m\u001b[0mself\u001b[0m\u001b[0;34m.\u001b[0m\u001b[0m_blit\u001b[0m\u001b[0;34m)\u001b[0m\u001b[0;34m\u001b[0m\u001b[0m\n",
      "\u001b[0;31mTypeError\u001b[0m: 'NoneType' object is not iterable"
     ]
    }
   ],
   "source": [
    "'''\n",
    "code from\n",
    "https://gist.github.com/matsuken92/f92f8e8e4a1f924e6d99#file-2-dim-steepest-descent_quadrant-py\n",
    "'''\n",
    "import numpy as np\n",
    "import matplotlib.pyplot as plt\n",
    "from moviepy.editor import *\n",
    "from matplotlib import animation as ani\n",
    "\n",
    "sigma = 1\n",
    "mu     = 3\n",
    "\n",
    "# set graph range\n",
    "x_low  = 2\n",
    "x_high = 8\n",
    "y_low  = 2\n",
    "y_high = 8 \n",
    "\n",
    "# set field\n",
    "X = np.linspace(x_low, x_high, 1000)\n",
    "Y = np.linspace(y_low, y_high, 1000)\n",
    "X, Y = np.meshgrid(X, Y)\n",
    "\n",
    "# set parameters\n",
    "D = 2\n",
    "mu_x = 5 #np.average(x)\n",
    "mu_y = 5 #np.average(y)\n",
    "cov = [[1.5,  1.4],\n",
    "       [1.4,  3.8]]\n",
    "cov_inv = np.linalg.inv(cov)\n",
    "cov_det = np.linalg.det(cov)\n",
    "c = 1./((2 * np.pi) ** (D/2) * np.sqrt(cov_det))\n",
    "Z = c * np.exp(-0.5 * ((cov_inv[0,0] * (X-mu_x)**2) + \\\n",
    "                       (2 * cov_inv[0, 1]) * (X-mu_x)*(Y-mu_y) + \\\n",
    "                       (cov_inv[1,1] * (Y-mu_y) ** 2)))\n",
    "\n",
    "def get_grad_vec(x, y):\n",
    "    c = 1./((2 * np.pi) ** (D/2) * np.sqrt(cov_det)) \n",
    "    Z = c * np.exp(-0.5 * ((cov_inv[0,0] * (x-mu_x)**2) + \\\n",
    "                       (2 * cov_inv[0, 1]) * (x-mu_x)*(y-mu_y) + \\\n",
    "                       (cov_inv[1,1] * (y-mu_y) ** 2)))\n",
    "    \n",
    "    grad_x = Z * 2 * ((x -mu_x)*cov_inv[0,0] + (y-mu_y)*cov_inv[0,1])\n",
    "    grad_y = Z * 2 * ((x -mu_x)*cov_inv[1,0] + (y-mu_y)*cov_inv[1,1])\n",
    "    return [grad_x, grad_y]\n",
    "\n",
    "def calc_2val_norm(init_x=3, init_y=3, learning_ratio = 5, precision=5):\n",
    "    list_xs   = []\n",
    "    list_ys   = []\n",
    "    list_nxs  = []\n",
    "    list_nys  = []\n",
    "    list_diff = []\n",
    "    xs = init_x\n",
    "    ys = init_y\n",
    "    i = 0\n",
    "    \n",
    "    for i in range(500):\n",
    "        grad_vec = get_grad_vec(xs, ys)\n",
    "        n_xs = xs - learning_ratio*grad_vec[0]\n",
    "        n_ys = ys - learning_ratio*grad_vec[1]\n",
    "        \n",
    "        list_xs.append(xs)\n",
    "        list_ys.append(ys)\n",
    "        list_nxs.append(n_xs)\n",
    "        list_nys.append(n_ys)\n",
    "\n",
    "        # judge convergence\n",
    "        diff = np.sqrt(grad_vec[0]**2 + grad_vec[1]**2)\n",
    "        list_diff.append(diff)\n",
    "        if diff < 0.1**precision:\n",
    "            print(\"break\")\n",
    "            break\n",
    "        \n",
    "        xs = n_xs\n",
    "        ys = n_ys\n",
    "        \n",
    "    ret_dict = {}\n",
    "    ret_dict['num'] = i+1\n",
    "    ret_dict['list_xs'] = list_xs\n",
    "    ret_dict['list_ys'] = list_ys\n",
    "    ret_dict['list_nxs'] = list_nxs\n",
    "    ret_dict['list_nys'] = list_nys\n",
    "    ret_dict['list_diff'] = list_diff\n",
    "    \n",
    "    return ret_dict\n",
    "\n",
    "def animate(i):\n",
    "    #print \"i %d\" % i\n",
    "    list_xs = ret_dict['list_xs']\n",
    "    list_ys = ret_dict['list_ys']\n",
    "    list_nxs = ret_dict['list_nxs']\n",
    "    list_nys = ret_dict['list_nys']\n",
    "    list_diff = ret_dict['list_diff']\n",
    "    \n",
    "    # draw graph\n",
    "    plt.scatter(list_xs[i], list_ys[i], s=20, c=\"b\", alpha=0.6)\n",
    "    plt.plot([list_xs[i], list_nxs[i]], [list_ys[i], list_nys[i]])\n",
    "    plt.title(\"n %2d, x %.5f, y %.5f, diff %.5f\" % (i, list_xs[i], list_ys[i], list_diff[i]))\n",
    "    \n",
    "fig = plt.figure(figsize=(7,5))\n",
    "ret_dict = calc_2val_norm(init_x=5, init_y=8)\n",
    "interval = np.arange(0.019, 0.1, 0.01)\n",
    "CS = plt.contour(X, Y, Z, interval)\n",
    "plt.clabel(CS, inline=1, fontsize=10)\n",
    "anim = ani.FuncAnimation(fig, animate, frames=ret_dict['num'], blit=True)\n",
    "anim.save('bi-normdist_decent_anim.mp4', fps=2.5)\n",
    "    \n",
    "clip = VideoFileClip(\"bi-normdist_decent_anim.mp4\")\n",
    "clip.write_gif(\"bi-normdist_decent_anim.gif\")"
   ]
  },
  {
   "cell_type": "markdown",
   "metadata": {
    "slideshow": {
     "slide_type": "slide"
    }
   },
   "source": [
    "## 3.2 確率的勾配降下法"
   ]
  },
  {
   "cell_type": "markdown",
   "metadata": {
    "slideshow": {
     "slide_type": "subslide"
    }
   },
   "source": [
    "### 最急降下法と確率的勾配降下法\n",
    "\n",
    "誤差関数は全ての訓練データに対する誤差の和\n",
    "\n",
    "$$\n",
    "\\begin{equation}\n",
    "E(\\mathbf w) = \\sum_{n=1}^{N} E_n(\\mathbf w)\n",
    "\\end{equation}\n",
    "$$\n",
    "\n",
    "**最急降下法**:<br>\n",
    "全ての訓練データについての誤差関数の勾配に従ってパラメータを更新\n",
    "\n",
    "$$\n",
    "\\begin{equation}\n",
    "\\mathbf w^{t+1} = \\mathbf w^{t} - \\epsilon \\nabla E\n",
    "\\end{equation}\n",
    "$$\n",
    "\n",
    "**確率的勾配降下法**:<br>\n",
    "一つの訓練データについての誤差関数の勾配に従ってパラメータを更新\n",
    "\n",
    "$$\n",
    "\\begin{equation}\n",
    "\\mathbf w^{t+1} = \\mathbf w^{t} - \\epsilon \\nabla E_n\n",
    "\\end{equation}\n",
    "$$"
   ]
  },
  {
   "cell_type": "code",
   "execution_count": null,
   "metadata": {
    "collapsed": true,
    "slideshow": {
     "slide_type": "subslide"
    }
   },
   "outputs": [],
   "source": [
    "全てのデータが同じ場合の地形を図示して、データの相関が大きい場合に確率的勾配降下法が有効であることを示す"
   ]
  },
  {
   "cell_type": "markdown",
   "metadata": {
    "slideshow": {
     "slide_type": "subslide"
    }
   },
   "source": [
    "### 確率的勾配降下法の利点\n",
    "\n",
    "- 訓練データに冗長性がある場合に計算効率が向上する\n",
    "- 局所解にトラップされづらくなる\n",
    "- 学習の途中経過を細かく監視できる\n",
    "- オンライン学習が可能"
   ]
  },
  {
   "cell_type": "markdown",
   "metadata": {
    "slideshow": {
     "slide_type": "slide"
    }
   },
   "source": [
    "## 3.3 ミニバッチの利用"
   ]
  },
  {
   "cell_type": "markdown",
   "metadata": {
    "slideshow": {
     "slide_type": "subslide"
    }
   },
   "source": [
    "### 最急降下法と確率的勾配降下法の中間\n",
    "\n",
    "- 少数のサンプル(ミニバッチ)についての誤差関数の勾配に従ってパラメータを更新\n",
    "\n",
    "- 多クラス分類問題ではミニバッチサイズはクラス数くらい(あまり大きくしない方がよい)\n",
    "\n",
    "- 全てのクラスをミニバッチに含むようにするのが良い<br>"
   ]
  },
  {
   "cell_type": "markdown",
   "metadata": {
    "slideshow": {
     "slide_type": "slide"
    }
   },
   "source": [
    "## 3.4 汎化性能と過適合"
   ]
  },
  {
   "cell_type": "markdown",
   "metadata": {
    "slideshow": {
     "slide_type": "subslide"
    }
   },
   "source": [
    "### 訓練誤差とテスト誤差\n",
    "\n",
    "**訓練誤差**: 訓練データに対する誤差　<br>\n",
    "\n",
    "**テスト誤差**: モデルがまだ見たことがないデータに対する誤差<br>\n",
    "\n",
    "**過学習**: 訓練誤差は小さいがテスト誤差は大きくなってしまう現象\n",
    "\n",
    "**早期終了**: テスト誤差が大きくなる前に学習を打ち切ることで過学習を防ぐ"
   ]
  },
  {
   "cell_type": "markdown",
   "metadata": {
    "slideshow": {
     "slide_type": "slide"
    }
   },
   "source": [
    "## 3.5 過適合の緩和"
   ]
  },
  {
   "cell_type": "markdown",
   "metadata": {
    "slideshow": {
     "slide_type": "subslide"
    }
   },
   "source": [
    "### 正則化\n",
    "\n",
    "正則化: 重みに制限をかける\n",
    "\n",
    "**L1正則化**:\n",
    "大部分のパラメータを0にしてスパースな解を得る。\n",
    "\n",
    "\n",
    "\n",
    "**L2正則化**:\n",
    "個々のパラメータの大きさを制限して過学習を防止する。\n",
    "\n",
    "$$\n",
    "\\begin{equation}\n",
    "E_t(\\mathbf{w}) = \\frac{1}{N_t}\\sum_{n\\in \\it{D_t}} E_n(\\mathbf{w}) + \\frac{\\lambda}{2}\\| \\mathbf{w} \\|^2\n",
    "\\end{equation}\n",
    "$$"
   ]
  },
  {
   "cell_type": "markdown",
   "metadata": {
    "slideshow": {
     "slide_type": "subslide"
    }
   },
   "source": [
    "### ドロップアウト\n",
    "\n",
    "- 過学習を防止する方法の一つ\n",
    "\n",
    "- 学習時、ミニバッチを入力するたびに層のユニットを確率1-pで無効化する\n",
    "\n",
    "- 推論時は、無効化の対象としたユニットの出力を一律にp倍する"
   ]
  },
  {
   "cell_type": "markdown",
   "metadata": {
    "slideshow": {
     "slide_type": "slide"
    }
   },
   "source": [
    "## 3.6 学習のトリック"
   ]
  },
  {
   "cell_type": "markdown",
   "metadata": {
    "slideshow": {
     "slide_type": "subslide"
    }
   },
   "source": [
    "### 3.6.1 データの正規化"
   ]
  },
  {
   "cell_type": "markdown",
   "metadata": {
    "slideshow": {
     "slide_type": "subslide"
    }
   },
   "source": [
    "### 3.6.2 データ拡張"
   ]
  },
  {
   "cell_type": "markdown",
   "metadata": {
    "slideshow": {
     "slide_type": "subslide"
    }
   },
   "source": [
    "### 3.6.3 複数ネットの平均"
   ]
  },
  {
   "cell_type": "markdown",
   "metadata": {
    "slideshow": {
     "slide_type": "subslide"
    }
   },
   "source": [
    "### 3.6.4 学習係数の決め方"
   ]
  },
  {
   "cell_type": "markdown",
   "metadata": {
    "slideshow": {
     "slide_type": "subslide"
    }
   },
   "source": [
    "### 3.6.5 モメンタム"
   ]
  },
  {
   "cell_type": "markdown",
   "metadata": {
    "slideshow": {
     "slide_type": "subslide"
    }
   },
   "source": [
    "### 3.6.6 重みの初期化"
   ]
  },
  {
   "cell_type": "markdown",
   "metadata": {
    "slideshow": {
     "slide_type": "subslide"
    }
   },
   "source": [
    "### 3.6.7 サンプルの順序"
   ]
  }
 ],
 "metadata": {
  "celltoolbar": "Slideshow",
  "kernelspec": {
   "display_name": "Python 3",
   "language": "python",
   "name": "python3"
  },
  "language_info": {
   "codemirror_mode": {
    "name": "ipython",
    "version": 3
   },
   "file_extension": ".py",
   "mimetype": "text/x-python",
   "name": "python",
   "nbconvert_exporter": "python",
   "pygments_lexer": "ipython3",
   "version": "3.5.1"
  }
 },
 "nbformat": 4,
 "nbformat_minor": 0
}
